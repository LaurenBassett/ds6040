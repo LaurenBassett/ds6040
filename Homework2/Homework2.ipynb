{
 "cells": [
  {
   "cell_type": "markdown",
   "metadata": {},
   "source": [
    "# Homework 2\n",
    "Lauren Bassett  \n",
    "DS 6040\n",
    "\n",
    "Honor Pledge: On my honor, I pledge that I have neither given nor recieved help on this assignment. "
   ]
  },
  {
   "cell_type": "markdown",
   "metadata": {},
   "source": [
    "Imports"
   ]
  },
  {
   "cell_type": "code",
   "execution_count": 1,
   "metadata": {},
   "outputs": [],
   "source": [
    "import pandas as pd\n",
    "import numpy as np\n",
    "import matplotlib.pyplot as plt\n",
    "import seaborn as sns\n",
    "from scipy.stats import multivariate_normal"
   ]
  },
  {
   "cell_type": "markdown",
   "metadata": {},
   "source": [
    "Read in Data"
   ]
  },
  {
   "cell_type": "code",
   "execution_count": 2,
   "metadata": {},
   "outputs": [],
   "source": [
    "wine_testing = pd.read_csv('whitewine-testing-ds6040.csv')\n",
    "wine_training = pd.read_csv('whitewine-training-ds6040.csv')"
   ]
  },
  {
   "cell_type": "markdown",
   "metadata": {},
   "source": [
    "Data Exploration/Commentary"
   ]
  },
  {
   "cell_type": "code",
   "execution_count": 75,
   "metadata": {},
   "outputs": [],
   "source": [
    "wine_training.wine_quality.value_counts()\n",
    "wine_training.head()\n",
    "training_counts = wine_training['wine_quality'].value_counts().to_frame()\n",
    "total_training = training_counts.sum()[0]"
   ]
  },
  {
   "cell_type": "code",
   "execution_count": 74,
   "metadata": {},
   "outputs": [
    {
     "data": {
      "text/plain": [
       "3178"
      ]
     },
     "execution_count": 74,
     "metadata": {},
     "output_type": "execute_result"
    }
   ],
   "source": []
  },
  {
   "cell_type": "markdown",
   "metadata": {},
   "source": [
    "A few observations before we begin:  \n",
    "* Since we are looking primarily at how the predictors influence the quality of wine, I wanted to highlight the types of wine quality that are being classified by the dataset. There are 3 possible outcomes: C, F, and A. \n",
    "* The training dataset has 3178 Observations\n"
   ]
  },
  {
   "cell_type": "markdown",
   "metadata": {},
   "source": [
    "# Question 1: Linear Discriminant Analysis\n",
    "## Fit LDS Classifiers\n",
    "* Calculate Overall mis-classification rate \n",
    "* Present cross-tabs table showing which categories are being classified correctly vs. incorrectly. \n",
    "* For each prior, apply LDA model to the testing dataset, and present the misclassification rate and cross tabs. \n"
   ]
  },
  {
   "cell_type": "markdown",
   "metadata": {},
   "source": [
    "LDA Function:  \n",
    "*Note: copied directly from the provided BayesClassifiers.ipynb file*"
   ]
  },
  {
   "cell_type": "code",
   "execution_count": 3,
   "metadata": {},
   "outputs": [],
   "source": [
    "class LDA():\n",
    "    def __init__(self, dataset, class_var, priors = None):\n",
    "        n_class = len(dataset[class_var].unique())\n",
    "        if priors is None:\n",
    "            priors = np.repeat(1/n_class, n_class)\n",
    "        self.priors =  np.asarray(priors)\n",
    "        self.means = dataset.groupby(class_var).mean()\n",
    "        self.sigma = dataset.cov()\n",
    "        self.class_var = class_var\n",
    "        self.training_data = dataset\n",
    "    def predict_probs(self, data = None):\n",
    "        if data is None:\n",
    "            data = self.training_data\n",
    "        data_temp = data.drop(self.class_var, axis = 1)\n",
    "        dens_list = []\n",
    "        col_names = []\n",
    "        for ind, row in self.means.iterrows():\n",
    "            col_names.append(ind)\n",
    "            dens_list.append(multivariate_normal.pdf(data_temp, mean = np.asarray(row), cov = self.sigma))\n",
    "        dens_list = pd.DataFrame(np.transpose(np.vstack(dens_list)),columns= col_names)\n",
    "        dens_list = dens_list.mul(self.priors, axis=1)\n",
    "        dens_list = dens_list.div(dens_list.sum(axis=1), axis=0)\n",
    "        dens_list['True Class'] = data[self.class_var]\n",
    "        return dens_list \n",
    "    def predict_MAP(self, data = None):        \n",
    "        if data is None:\n",
    "            data = self.training_data\n",
    "        dens_list = self.predict_probs(data).drop('True Class', axis = 1)\n",
    "        map_list = dens_list.idxmax(axis = 1)\n",
    "        maps = {'MAP Class': map_list}\n",
    "        maps = pd.DataFrame(maps)\n",
    "        maps['True Class'] = data[self.class_var]\n",
    "        return maps\n",
    "    def misclass_rate(self, data = None):\n",
    "        if data is None:\n",
    "            data = self.training_data\n",
    "        maps = self.predict_MAP(data = data)\n",
    "        \n",
    "        \n",
    "        maps['Mis_class'] = maps['MAP Class']  == maps['True Class']\n",
    "        \n",
    "        mis_class =  1 - maps['Mis_class'].mean()\n",
    "        \n",
    "        return mis_class\n",
    "    def misclass_xtabs(self, data = None):\n",
    "        if data is None:\n",
    "            data = self.training_data\n",
    "        maps = self.predict_MAP(data = data)\n",
    "        \n",
    "        xtabs = pd.crosstab(maps['MAP Class'], maps['True Class'])        \n",
    "        return xtabs\n",
    "    def misclass_pairplot(self, data = None):\n",
    "        if data is None:\n",
    "            data = self.training_data\n",
    "        maps = self.predict_MAP(data = data)\n",
    "        temp_dat = data.copy(deep = True)\n",
    "        temp_dat['Mis-Classified'] = maps['MAP Class']  != maps['True Class']\n",
    "        plot = sns.pairplot(temp_dat,hue=\"Mis-Classified\", height = 1.5, aspect = 1.5)   \n",
    "        return plot\n",
    "    "
   ]
  },
  {
   "cell_type": "markdown",
   "metadata": {},
   "source": [
    "## a) Non-informative (flat) priors on wine quality  \n",
    "For my non-informative prior, I am going to weight the likelihood of each possible outcome as 1/3, since there are 3 possible outcomes. "
   ]
  },
  {
   "cell_type": "code",
   "execution_count": 84,
   "metadata": {},
   "outputs": [
    {
     "name": "stdout",
     "output_type": "stream",
     "text": [
      "+-----Non-Informative-Priors----+\n",
      "\t-Training Dataset-\n",
      "Mis-Classification Rate: 0.49496538703587156\n",
      "** Cross Tab **\n",
      "True Class   A    C    F\n",
      "MAP Class               \n",
      "A           69  687   62\n",
      "C           22  800  202\n",
      "F            9  591  736\n",
      "----------------------------------\n",
      "\t-Testing Dataset-\n",
      "Mis-Classification Rate: 0.48546511627906974\n",
      "** Cross Tab **\n",
      "True Class   A    C    F\n",
      "MAP Class               \n",
      "A           56  348   43\n",
      "C           15  381  149\n",
      "F            9  271  448\n"
     ]
    }
   ],
   "source": [
    "priors = [1/3, 1/3, 1/3]\n",
    "LDA_non_informative = LDA(wine_training, 'wine_quality', priors = priors)\n",
    "print('+-----Non-Informative-Priors----+')\n",
    "print('\\t-Training Dataset-')\n",
    "Non_Inform_Train_MCR = LDA_non_informative.misclass_rate()\n",
    "print(\"Mis-Classification Rate:\",Non_Inform_Train_MCR)\n",
    "print(\"** Cross Tab **\")\n",
    "print(LDA_non_informative.misclass_xtabs())\n",
    "print('----------------------------------')\n",
    "print(\"\\t-Testing Dataset-\")\n",
    "Non_Inform_Test_MCR = LDA_non_informative.misclass_rate(wine_testing)\n",
    "print(\"Mis-Classification Rate:\",Non_Inform_Test_MCR)\n",
    "print(\"** Cross Tab **\")\n",
    "print(LDA_non_informative.misclass_xtabs(wine_testing))"
   ]
  },
  {
   "cell_type": "markdown",
   "metadata": {},
   "source": [
    "## b) Priors that reflect the observed proportion of wines at different quality levels\n",
    "For the priors here, I take the number of wines in each category in the training dataset, and divide it by the total number of wines in the training data. "
   ]
  },
  {
   "cell_type": "code",
   "execution_count": 87,
   "metadata": {},
   "outputs": [
    {
     "name": "stdout",
     "output_type": "stream",
     "text": [
      "+-------Proportional-Priors------+\n",
      "\t-Training Dataset-\n",
      "Mis-Classification Rate: 0.28099433606041535\n",
      "** Cross Tab **\n",
      "True Class    A     C    F\n",
      "MAP Class                 \n",
      "A             0     0    1\n",
      "C           100  1913  627\n",
      "F             0   165  372\n",
      "----------------------------------\n",
      "\t-Testing Dataset-\n",
      "Mis-Classification Rate: 0.32732558139534884\n",
      "** Cross Tab **\n",
      "True Class   A    C    F\n",
      "MAP Class               \n",
      "C           79  923  406\n",
      "F            1   77  234\n"
     ]
    }
   ],
   "source": [
    "priors = [training_counts.wine_quality.A/total_training, training_counts.wine_quality.C/total_training, training_counts.wine_quality.F/total_training]\n",
    "LDA_proportional_priors = LDA(wine_training, 'wine_quality', priors = priors)\n",
    "print('+-------Proportional-Priors------+')\n",
    "print('\\t-Training Dataset-')\n",
    "Proportional_Train_MCR = LDA_proportional_priors.misclass_rate()\n",
    "print(\"Mis-Classification Rate:\",Proportional_Train_MCR)\n",
    "print(\"** Cross Tab **\")\n",
    "print(LDA_proportional_priors.misclass_xtabs())\n",
    "print('----------------------------------')\n",
    "print(\"\\t-Testing Dataset-\")\n",
    "Proportional_Test_MCR = LDA_proportional_priors.misclass_rate(wine_testing)\n",
    "print(\"Mis-Classification Rate:\",Proportional_Test_MCR)\n",
    "print(\"** Cross Tab **\")\n",
    "print(LDA_proportional_priors.misclass_xtabs(wine_testing))"
   ]
  },
  {
   "cell_type": "markdown",
   "metadata": {},
   "source": [
    "## c) Priors that reflect the notion that most wines are awful, some wines are average, and few wines are good (your choice for the specific values)\n",
    "For my priors here, I am assuming 80% of the wines are poor, 15% of the wines are average, and 5% of the wines are good. "
   ]
  },
  {
   "cell_type": "code",
   "execution_count": 97,
   "metadata": {},
   "outputs": [
    {
     "name": "stdout",
     "output_type": "stream",
     "text": [
      "+--Most-Awful--Some-Average--Few-Good--+\n",
      "\t-Training Dataset-\n",
      "Mis-Classification Rate: 0.6415984896161108\n",
      "** Cross Tab **\n",
      "True Class   A     C    F\n",
      "MAP Class                \n",
      "A           10    51    2\n",
      "C           20   135    4\n",
      "F           70  1892  994\n",
      "----------------------------------\n",
      "\t-Testing Dataset-\n",
      "Mis-Classification Rate: 0.5848837209302326\n",
      "** Cross Tab **\n",
      "True Class   A    C    F\n",
      "MAP Class               \n",
      "A            9   38    0\n",
      "C           10   72    7\n",
      "F           61  890  633\n"
     ]
    }
   ],
   "source": [
    "priors = [0.05, 0.15,0.8]\n",
    "LDA_MFSCFA = LDA(wine_training, 'wine_quality', priors = priors)\n",
    "print('+--Most-Awful--Some-Average--Few-Good--+')\n",
    "print('\\t-Training Dataset-')\n",
    "MFSCFA_Train_MCR = LDA_MFSCFA.misclass_rate()\n",
    "print(\"Mis-Classification Rate:\",MFSCFA_Train_MCR)\n",
    "print(\"** Cross Tab **\")\n",
    "print(LDA_MFSCFA.misclass_xtabs())\n",
    "print('----------------------------------')\n",
    "print(\"\\t-Testing Dataset-\")\n",
    "MFSCFA_Test_MCR = LDA_MFSCFA.misclass_rate(wine_testing)\n",
    "print(\"Mis-Classification Rate:\",MFSCFA_Test_MCR)\n",
    "print(\"** Cross Tab **\")\n",
    "print(LDA_MFSCFA.misclass_xtabs(wine_testing))"
   ]
  },
  {
   "cell_type": "markdown",
   "metadata": {},
   "source": [
    "## d) Priors that somebody with a terrible taste in wine would use (most are good, few are bad or average)\n",
    "For the priors here, I have 80% of the wines classified as good, where only 15% are classified as average,and 5% classified as bad."
   ]
  },
  {
   "cell_type": "code",
   "execution_count": 95,
   "metadata": {},
   "outputs": [
    {
     "name": "stdout",
     "output_type": "stream",
     "text": [
      "+---------Bad-Sommelier--------+\n",
      "\t-Training Dataset-\n",
      "Mis-Classification Rate: 0.9093769666456891\n",
      "** Cross Tab **\n",
      "True Class    A     C    F\n",
      "MAP Class                 \n",
      "A           100  1993  799\n",
      "C             0    53   66\n",
      "F             0    32  135\n",
      "----------------------------------\n",
      "\t-Testing Dataset-\n",
      "Mis-Classification Rate: 0.8866279069767442\n",
      "** Cross Tab **\n",
      "True Class   A    C    F\n",
      "MAP Class               \n",
      "A           79  945  518\n",
      "C            1   32   38\n",
      "F            0   23   84\n"
     ]
    }
   ],
   "source": [
    "priors = [0.8, 0.15,0.05]\n",
    "LDA_bad_taste = LDA(wine_training, 'wine_quality', priors = priors)\n",
    "print('+---------Bad-Sommelier--------+')\n",
    "print('\\t-Training Dataset-')\n",
    "Bad_Taste_Train_MCR = LDA_bad_taste.misclass_rate()\n",
    "print(\"Mis-Classification Rate:\",Bad_Taste_Train_MCR)\n",
    "print(\"** Cross Tab **\")\n",
    "print(LDA_bad_taste.misclass_xtabs())\n",
    "print('----------------------------------')\n",
    "print(\"\\t-Testing Dataset-\")\n",
    "Bad_Taste_Test_MCR = LDA_bad_taste.misclass_rate(wine_testing)\n",
    "print(\"Mis-Classification Rate:\",Bad_Taste_Test_MCR)\n",
    "print(\"** Cross Tab **\")\n",
    "print(LDA_bad_taste.misclass_xtabs(wine_testing))"
   ]
  },
  {
   "cell_type": "markdown",
   "metadata": {},
   "source": [
    "## Conclusions"
   ]
  },
  {
   "cell_type": "code",
   "execution_count": 98,
   "metadata": {},
   "outputs": [
    {
     "data": {
      "text/html": [
       "<div>\n",
       "<style scoped>\n",
       "    .dataframe tbody tr th:only-of-type {\n",
       "        vertical-align: middle;\n",
       "    }\n",
       "\n",
       "    .dataframe tbody tr th {\n",
       "        vertical-align: top;\n",
       "    }\n",
       "\n",
       "    .dataframe thead th {\n",
       "        text-align: right;\n",
       "    }\n",
       "</style>\n",
       "<table border=\"1\" class=\"dataframe\">\n",
       "  <thead>\n",
       "    <tr style=\"text-align: right;\">\n",
       "      <th></th>\n",
       "      <th>Training</th>\n",
       "      <th>Testing</th>\n",
       "    </tr>\n",
       "  </thead>\n",
       "  <tbody>\n",
       "    <tr>\n",
       "      <th>Non Informed</th>\n",
       "      <td>0.494965</td>\n",
       "      <td>0.485465</td>\n",
       "    </tr>\n",
       "    <tr>\n",
       "      <th>Proportional</th>\n",
       "      <td>0.280994</td>\n",
       "      <td>0.327326</td>\n",
       "    </tr>\n",
       "    <tr>\n",
       "      <th>Good Taste</th>\n",
       "      <td>0.641598</td>\n",
       "      <td>0.584884</td>\n",
       "    </tr>\n",
       "    <tr>\n",
       "      <th>Bad Taste</th>\n",
       "      <td>0.909377</td>\n",
       "      <td>0.886628</td>\n",
       "    </tr>\n",
       "  </tbody>\n",
       "</table>\n",
       "</div>"
      ],
      "text/plain": [
       "              Training   Testing\n",
       "Non Informed  0.494965  0.485465\n",
       "Proportional  0.280994  0.327326\n",
       "Good Taste    0.641598  0.584884\n",
       "Bad Taste     0.909377  0.886628"
      ]
     },
     "execution_count": 98,
     "metadata": {},
     "output_type": "execute_result"
    }
   ],
   "source": [
    "x_tabs = {'Training': [Non_Inform_Train_MCR, Proportional_Train_MCR, MFSCFA_Train_MCR, Bad_Taste_Train_MCR],\n",
    "            'Testing':[Non_Inform_Test_MCR, Proportional_Test_MCR, MFSCFA_Test_MCR, Bad_Taste_Test_MCR]}\n",
    "\n",
    "pd.DataFrame(x_tabs, index=['Non Informed','Proportional', 'Good Taste', 'Bad Taste'])"
   ]
  },
  {
   "cell_type": "markdown",
   "metadata": {},
   "source": [
    "### Discuss the performance of your LDA models under your various choice of priors:  \n",
    "\n",
    "The four different LDA Models vary in their misclassification rates. \n",
    "The model using proportional priors outperformed the other models, with roughly 30% of the data being misclassified.   \n",
    "The model that used the non-informed priors was the second-best, but roughly half of the data was misclassified.  \n",
    "The model where most of the wines were classified as poor performs third best, with 64% of the training data and 58% of the testing data being misclassified. \n",
    "The model representing someone with a bad taste in wine misclassified nearly all of the data. What I find interesting is that I used mirrored proportions for the Good and Bad Taste, and the 'Good Taste' Classification still does not perform well, even though the 'Bad Taste' model is misclassifying almost all data points.  \n",
    "\n",
    "The classes of wine quality are greatly unbalanced, so I would recommend using the proportion as priors. As shown, this allows the model to better handle the unbalanced classes and more accurately predict the correct classifications. \n",
    "\n",
    "### How does the performance change when we start testing our models on the testing data?  \n",
    "For the uninformed, good, and bad taste priors, the accuracy of the model increases when we use the testing data. For the proportional data, the accuracy of the model decreases.  \n",
    "I believe this occurs because the proportions used for the priors are directly tied to the training data, the proportions are not the same in the testing data, whereas the other priors do not rely explicitly on a metric from the training data. However, these priors still greatly outperform the other models. "
   ]
  }
 ],
 "metadata": {
  "kernelspec": {
   "display_name": "Python 3.8.10 64-bit (windows store)",
   "language": "python",
   "name": "python3"
  },
  "language_info": {
   "codemirror_mode": {
    "name": "ipython",
    "version": 3
   },
   "file_extension": ".py",
   "mimetype": "text/x-python",
   "name": "python",
   "nbconvert_exporter": "python",
   "pygments_lexer": "ipython3",
   "version": "3.8.10"
  },
  "orig_nbformat": 4,
  "vscode": {
   "interpreter": {
    "hash": "619226f811c1a3cf24b57725644a3f9927ee4a52cb448157cb29be04a2ef885e"
   }
  }
 },
 "nbformat": 4,
 "nbformat_minor": 2
}
